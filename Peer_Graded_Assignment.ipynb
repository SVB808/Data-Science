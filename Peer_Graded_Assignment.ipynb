{
 "cells": [
  {
   "cell_type": "markdown",
   "id": "0574e1c8-3362-4a20-b3f2-eb5491a01d27",
   "metadata": {},
   "source": [
    "<h1>My Jupyter Notebook on IBM Watson Studio</h1>"
   ]
  },
  {
   "cell_type": "markdown",
   "id": "d5e3b755-1489-4d99-842c-5125fe78c80f",
   "metadata": {},
   "source": [
    "<strong>Shrutha V Bhat</strong><br>\n",
    "Data Scientist"
   ]
  },
  {
   "cell_type": "markdown",
   "id": "48008221-06d7-4758-b47c-19fd5bd8da3d",
   "metadata": {},
   "source": [
    "<em>I am intrested in Data Science because, I think it's a vast subject that covers different domains. Also, it's a creative process where people play around with data to discover knowledge as well as get insights from data.</em>"
   ]
  },
  {
   "cell_type": "markdown",
   "id": "f3ce3fdf-1ae9-4319-8440-321701f49e2f",
   "metadata": {},
   "source": [
    "<h3>The following is a code that calculates the average of the elements in a list</h3>"
   ]
  },
  {
   "cell_type": "code",
   "execution_count": 2,
   "id": "90018c3a-073f-4fd1-bc3c-f4edbc742ef3",
   "metadata": {},
   "outputs": [
    {
     "name": "stdout",
     "output_type": "stream",
     "text": [
      "The average of the list elements is:  8.27\n"
     ]
    }
   ],
   "source": [
    "lst = [2,6,3,9,10,13,8,21,7,11,1]\n",
    "average = sum(lst)/len(lst)\n",
    "print('The average of the list elements is: ',round(average,2))"
   ]
  },
  {
   "cell_type": "markdown",
   "id": "d35ff423-871b-4beb-a0a0-f4b316298986",
   "metadata": {},
   "source": [
    "<h5>The following is a bulleted list</h5>\n",
    "<ul>\n",
    "    <li>USA</li>\n",
    "    <li>Canada</li>\n",
    "    <li>UK</li>\n",
    "    <li>France</li>\n",
    "</ul>\n",
    "<h5>The following is a numbered list</h5>\n",
    "<ol>\n",
    "    <li>Espresso</li>\n",
    "    <li>Latte</li>\n",
    "    <li>Mocha</li>\n",
    "    <li>Cappuccino</li>\n",
    "</ol>\n",
    "<h5>The following is a hyperlink</h5>\n",
    "<a href=\"https://www.google.com/\">Visit Google!</a>"
   ]
  }
 ],
 "metadata": {
  "kernelspec": {
   "display_name": "Python",
   "language": "python",
   "name": "conda-env-python-py"
  },
  "language_info": {
   "codemirror_mode": {
    "name": "ipython",
    "version": 3
   },
   "file_extension": ".py",
   "mimetype": "text/x-python",
   "name": "python",
   "nbconvert_exporter": "python",
   "pygments_lexer": "ipython3",
   "version": "3.7.12"
  }
 },
 "nbformat": 4,
 "nbformat_minor": 5
}
